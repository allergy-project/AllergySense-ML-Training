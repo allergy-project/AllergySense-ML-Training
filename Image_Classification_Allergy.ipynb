{
  "nbformat": 4,
  "nbformat_minor": 0,
  "metadata": {
    "colab": {
      "provenance": [],
      "collapsed_sections": [
        "T3OLOPtfuIL8",
        "m9obzL4uuMPZ",
        "Y8B6fDWv9nxo",
        "P0vzOtlD9qg_",
        "pMvrJbmPJKNu",
        "UCe1HoNVHaPG",
        "xTkLg6R7IYB2",
        "cI9VRmdmI4Hp"
      ],
      "gpuType": "T4"
    },
    "kernelspec": {
      "name": "python3",
      "display_name": "Python 3"
    },
    "language_info": {
      "name": "python"
    },
    "accelerator": "GPU"
  },
  "cells": [
    {
      "cell_type": "markdown",
      "source": [
        "# **Download Data**"
      ],
      "metadata": {
        "id": "T3OLOPtfuIL8"
      }
    },
    {
      "cell_type": "code",
      "execution_count": null,
      "metadata": {
        "id": "uEh-07vt4PDC"
      },
      "outputs": [],
      "source": [
        "!gdown 1Yh4-oBajQpMstZtm8-ZfbzUu0TA7G8S0\n",
        "!gdown 12rD9Ct25EzFHq-QRkDhbbaKRk_jzEzkO\n",
        "!gdown 1i7ssuu6eAgsgy7ZBwRfQuAyb2ryK0at5\n",
        "!unzip /content/DerajatAlergi.zip\n",
        "!unzip /content/foto-kulit-sehat.zip\n",
        "!unzip /content/dataku-kulit-gasehat-acak.zip"
      ]
    },
    {
      "cell_type": "markdown",
      "source": [
        "# **Setup**"
      ],
      "metadata": {
        "id": "m9obzL4uuMPZ"
      }
    },
    {
      "cell_type": "markdown",
      "source": [
        "## -Libs"
      ],
      "metadata": {
        "id": "-0bx1s_uq1Ek"
      }
    },
    {
      "cell_type": "code",
      "source": [
        "import os\n",
        "import zipfile\n",
        "import random\n",
        "import shutil\n",
        "import tensorflow as tf\n",
        "import numpy as np\n",
        "import cv2\n",
        "import pandas as pd\n",
        "from PIL import Image\n",
        "from tensorflow.keras.preprocessing.image import ImageDataGenerator\n",
        "from tensorflow.keras.callbacks import Callback\n",
        "from shutil import copyfile\n",
        "import matplotlib.pyplot as plt\n",
        "from imblearn.over_sampling import SMOTE"
      ],
      "metadata": {
        "id": "fed32w0NEizO"
      },
      "execution_count": null,
      "outputs": []
    },
    {
      "cell_type": "markdown",
      "source": [
        "## -Function"
      ],
      "metadata": {
        "id": "HFEuvyqBq3dR"
      }
    },
    {
      "cell_type": "markdown",
      "source": [
        "### --Choos Mono/Normal\n",
        "\n",
        "\n",
        "*   normal dataset means only use allergy dataset and divide it in 3 class (degrees1, degrees2, degrees3)\n",
        "*   mono dataset means all allergy dataset is only 1 class (allergy) plus other dataset become another class (non allergy)"
      ],
      "metadata": {
        "id": "tCZQ4e9Kq9uT"
      }
    },
    {
      "cell_type": "code",
      "source": [
        "mono = True"
      ],
      "metadata": {
        "id": "J4e6vOOArmCP"
      },
      "execution_count": null,
      "outputs": []
    },
    {
      "cell_type": "markdown",
      "source": [
        "### --The functions"
      ],
      "metadata": {
        "id": "5i3sVM1mro6v"
      }
    },
    {
      "cell_type": "code",
      "source": [
        "root_dir = '/content/dataset'\n",
        "\n",
        "if os.path.exists(root_dir):\n",
        "  shutil.rmtree(root_dir)\n",
        "\n",
        "def create_train_val_dirs(root_path):\n",
        "  path = os.path.join(root_path, \"training\")\n",
        "  os.makedirs(path)\n",
        "  path_1 = os.path.join(path, \"d1\")\n",
        "  os.makedirs(path_1)\n",
        "  path_2 = os.path.join(path, \"d2\")\n",
        "  os.makedirs(path_2)\n",
        "  path_2 = os.path.join(path, \"d3\")\n",
        "  os.makedirs(path_2)\n",
        "  path = os.path.join(root_path, \"validation\")\n",
        "  os.makedirs(path)\n",
        "  path_3 = os.path.join(path, \"d1\")\n",
        "  os.makedirs(path_3)\n",
        "  path_4 = os.path.join(path, \"d2\")\n",
        "  os.makedirs(path_4)\n",
        "  path_4 = os.path.join(path, \"d3\")\n",
        "  os.makedirs(path_4)\n",
        "def create_mono_train_val_dirs(root_path):\n",
        "  path = os.path.join(root_path, \"training\")\n",
        "  os.makedirs(path)\n",
        "  path_1 = os.path.join(path, \"non_alergi\")\n",
        "  os.makedirs(path_1)\n",
        "  path_1 = os.path.join(path, \"alergi\")\n",
        "  os.makedirs(path_1)\n",
        "  path = os.path.join(root_path, \"validation\")\n",
        "  os.makedirs(path)\n",
        "  path_3 = os.path.join(path, \"non_alergi\")\n",
        "  os.makedirs(path_3)\n",
        "  path_3 = os.path.join(path, \"alergi\")\n",
        "  os.makedirs(path_3)\n",
        "try:\n",
        "  # create_train_val_dirs(root_path=root_dir)\n",
        "  create_mono_train_val_dirs(root_path=root_dir)\n",
        "except FileExistsError:\n",
        "  print(\"You should not be seeing this since the upper directory is removed beforehand\")"
      ],
      "metadata": {
        "id": "NrdsEVsqE0k2"
      },
      "execution_count": null,
      "outputs": []
    },
    {
      "cell_type": "code",
      "source": [
        "def split_data(SOURCE_DIR, TRAINING_DIR, VALIDATION_DIR, SPLIT_SIZE):\n",
        "  files = []\n",
        "  for filename in os.listdir(SOURCE_DIR):\n",
        "    file = SOURCE_DIR + filename\n",
        "    if os.path.getsize(file) > 0:\n",
        "      files.append(filename)\n",
        "    else:\n",
        "      print(filename + ' is zero length, so ignoring.')\n",
        "\n",
        "    training_length = int(len(files) * SPLIT_SIZE)\n",
        "    testing_length = int(len(files) - training_length)\n",
        "    shuffled_set = random.sample(files, len(files))\n",
        "    training_set = shuffled_set[0:training_length]\n",
        "    testing_set = shuffled_set[-testing_length:]\n",
        "  \n",
        "  for filename in training_set:\n",
        "    src_file = SOURCE_DIR + filename\n",
        "    dest_file = TRAINING_DIR + filename\n",
        "    copyfile(src_file, dest_file)\n",
        "    \n",
        "  for filename in testing_set:\n",
        "    src_file = SOURCE_DIR + filename\n",
        "    dest_file = VALIDATION_DIR + filename\n",
        "    copyfile(src_file, dest_file)"
      ],
      "metadata": {
        "id": "0GnbCdxfJYlD"
      },
      "execution_count": null,
      "outputs": []
    },
    {
      "cell_type": "markdown",
      "source": [
        "# **Data Prep**"
      ],
      "metadata": {
        "id": "oI44kpEdHEeE"
      }
    },
    {
      "cell_type": "markdown",
      "source": [
        "## -Split Val"
      ],
      "metadata": {
        "id": "QNcnl9vuJDUD"
      }
    },
    {
      "cell_type": "code",
      "source": [
        "split_size = .85"
      ],
      "metadata": {
        "id": "XrcgMfxlHJv8"
      },
      "execution_count": null,
      "outputs": []
    },
    {
      "cell_type": "markdown",
      "source": [
        "## -Data Extraction"
      ],
      "metadata": {
        "id": "UIio-ay-uRGv"
      }
    },
    {
      "cell_type": "markdown",
      "source": [
        "### --monodatset"
      ],
      "metadata": {
        "id": "Y8B6fDWv9nxo"
      }
    },
    {
      "cell_type": "code",
      "source": [
        "if mono:\n",
        "  # Define paths\n",
        "  d1_SOURCE_DIR = \"/content/resultados/grau1/\" #Data Alergi\n",
        "  d2_SOURCE_DIR = \"/content/resultados/grau2/\" #Data Alergi\n",
        "  d3_SOURCE_DIR = \"/content/resultados/grau3/\" #Data Alergi\n",
        "  sehat_SOURCE = \"/content/foto-kulit-sehat/\" #Data Non Alergi\n",
        "  gasehat_SOURCE = \"/content/dataku-kulit-gasehat-acak/\" #Data Non Alergi\n",
        "\n",
        "  TRAINING_DIR = \"/content/dataset/training/\"\n",
        "  VALIDATION_DIR = \"/content/dataset/validation/\"\n",
        "\n",
        "  TRAINING_non_alergi_DIR = os.path.join(TRAINING_DIR, \"non_alergi/\")\n",
        "  VALIDATION_non_alergi_DIR = os.path.join(VALIDATION_DIR, \"non_alergi/\")\n",
        "  TRAINING_alergi_DIR = os.path.join(TRAINING_DIR, \"alergi/\")\n",
        "  VALIDATION_alergi_DIR = os.path.join(VALIDATION_DIR, \"alergi/\")\n",
        "\n",
        "  # Empty directories in case you run this cell multiple times\n",
        "  if len(os.listdir(TRAINING_non_alergi_DIR)) > 0:\n",
        "    for file in os.scandir(TRAINING_non_alergi_DIR):\n",
        "      os.remove(file.path)\n",
        "  if len(os.listdir(TRAINING_alergi_DIR)) > 0:\n",
        "    for file in os.scandir(TRAINING_alergi_DIR):\n",
        "      os.remove(file.path)\n",
        "  if len(os.listdir(VALIDATION_non_alergi_DIR)) > 0:\n",
        "    for file in os.scandir(VALIDATION_non_alergi_DIR):\n",
        "      os.remove(file.path)\n",
        "  if len(os.listdir(VALIDATION_alergi_DIR)) > 0:\n",
        "    for file in os.scandir(VALIDATION_alergi_DIR):\n",
        "      os.remove(file.path)\n",
        "\n",
        "  # Define proportion of images used for training\n",
        "  # Run the function\n",
        "  # NOTE: Messages about zero length images should be printed out\n",
        "  split_data(d1_SOURCE_DIR, TRAINING_alergi_DIR, VALIDATION_alergi_DIR, split_size)\n",
        "  split_data(d2_SOURCE_DIR, TRAINING_alergi_DIR, VALIDATION_alergi_DIR, split_size)\n",
        "  split_data(d3_SOURCE_DIR, TRAINING_alergi_DIR, VALIDATION_alergi_DIR, split_size)\n",
        "  split_data(sehat_SOURCE, TRAINING_non_alergi_DIR, VALIDATION_non_alergi_DIR, split_size)\n",
        "  split_data(gasehat_SOURCE, TRAINING_non_alergi_DIR, VALIDATION_non_alergi_DIR, split_size)\n",
        "\n",
        "  # Check that the number of images matches the expected output\n",
        "  # Your function should perform copies rather than moving images so original directories should contain unchanged images\n",
        "  print(f\"Original {d1_SOURCE_DIR} directory has {len(os.listdir(d1_SOURCE_DIR))} images\")\n",
        "  print(f\"Original {d2_SOURCE_DIR} directory has {len(os.listdir(d2_SOURCE_DIR))} images\")\n",
        "  print(f\"Original {d3_SOURCE_DIR} directory has {len(os.listdir(d3_SOURCE_DIR))} images\")\n",
        "  print(f\"Original {sehat_SOURCE} directory has {len(os.listdir(sehat_SOURCE))} images\")\n",
        "  print(f\"Original {gasehat_SOURCE} directory has {len(os.listdir(gasehat_SOURCE))} images\")\n",
        "  # Training and validation splits\n",
        "  print(f\"There are {len(os.listdir(TRAINING_alergi_DIR))} images of alergi for training\")\n",
        "  print(f\"There are {len(os.listdir(VALIDATION_alergi_DIR))} images of alergi for validation\")\n",
        "  print(f\"There are {len(os.listdir(TRAINING_non_alergi_DIR))} images of non alergi for training\")\n",
        "  print(f\"There are {len(os.listdir(VALIDATION_non_alergi_DIR))} images of non alergi for validation\")\n",
        "else: print('You Are Set As Not Mono')"
      ],
      "metadata": {
        "id": "BDd26nHL8J1f"
      },
      "execution_count": null,
      "outputs": []
    },
    {
      "cell_type": "markdown",
      "source": [
        "### --dataset"
      ],
      "metadata": {
        "id": "P0vzOtlD9qg_"
      }
    },
    {
      "cell_type": "code",
      "source": [
        "if !mono:\n",
        "  # Define paths\n",
        "  d1_SOURCE_DIR = \"/content/resultados/grau1/\"\n",
        "  d2_SOURCE_DIR = \"/content/resultados/grau2/\"\n",
        "  d3_SOURCE_DIR = \"/content/resultados/grau3/\"\n",
        "\n",
        "  TRAINING_DIR = \"/content/dataset/training/\"\n",
        "  VALIDATION_DIR = \"/content/dataset/validation/\"\n",
        "\n",
        "  TRAINING_d1_DIR = os.path.join(TRAINING_DIR, \"d1/\")\n",
        "  VALIDATION_d1_DIR = os.path.join(VALIDATION_DIR, \"d1/\")\n",
        "\n",
        "  TRAINING_d2_DIR = os.path.join(TRAINING_DIR, \"d2/\")\n",
        "  VALIDATION_d2_DIR = os.path.join(VALIDATION_DIR, \"d2/\")\n",
        "\n",
        "  TRAINING_d3_DIR = os.path.join(TRAINING_DIR, \"d3/\")\n",
        "  VALIDATION_d3_DIR = os.path.join(VALIDATION_DIR, \"d3/\")\n",
        "\n",
        "  # Empty directories in case you run this cell multiple times\n",
        "  if len(os.listdir(TRAINING_d1_DIR)) > 0:\n",
        "    for file in os.scandir(TRAINING_d1_DIR):\n",
        "      os.remove(file.path)\n",
        "  if len(os.listdir(VALIDATION_d1_DIR)) > 0:\n",
        "    for file in os.scandir(VALIDATION_d1_DIR):\n",
        "      os.remove(file.path)\n",
        "\n",
        "  if len(os.listdir(TRAINING_d2_DIR)) > 0:\n",
        "    for file in os.scandir(TRAINING_d2_DIR):\n",
        "      os.remove(file.path)\n",
        "  if len(os.listdir(VALIDATION_d2_DIR)) > 0:\n",
        "    for file in os.scandir(VALIDATION_d2_DIR):\n",
        "      os.remove(file.path)\n",
        "\n",
        "  if len(os.listdir(TRAINING_d3_DIR)) > 0:\n",
        "    for file in os.scandir(TRAINING_d3_DIR):\n",
        "      os.remove(file.path)\n",
        "  if len(os.listdir(VALIDATION_d3_DIR)) > 0:\n",
        "    for file in os.scandir(VALIDATION_d3_DIR):\n",
        "      os.remove(file.path)\n",
        "\n",
        "  # Define proportion of images used for training\n",
        "\n",
        "  # Run the function\n",
        "  # NOTE: Messages about zero length images should be printed out\n",
        "  split_data(d1_SOURCE_DIR, TRAINING_d1_DIR, VALIDATION_d1_DIR, split_size)\n",
        "  split_data(d2_SOURCE_DIR, TRAINING_d2_DIR, VALIDATION_d2_DIR, split_size)\n",
        "  split_data(d3_SOURCE_DIR, TRAINING_d3_DIR, VALIDATION_d3_DIR, split_size)\n",
        "\n",
        "  # Check that the number of images matches the expected output\n",
        "\n",
        "  # Your function should perform copies rather than moving images so original directories should contain unchanged images\n",
        "  print(f\"Original d1's directory has {len(os.listdir(d1_SOURCE_DIR))} images\")\n",
        "  print(f\"Original d2's directory has {len(os.listdir(d2_SOURCE_DIR))} images\")\n",
        "  print(f\"Original d3's directory has {len(os.listdir(d3_SOURCE_DIR))} images\")\n",
        "\n",
        "  # Training and validation splits\n",
        "  print(f\"There are {len(os.listdir(TRAINING_d1_DIR))} images of d1 for training\")\n",
        "  print(f\"There are {len(os.listdir(VALIDATION_d1_DIR))} images of d1 for validation\")\n",
        "\n",
        "  print(f\"There are {len(os.listdir(TRAINING_d2_DIR))} images of d2 for training\")\n",
        "  print(f\"There are {len(os.listdir(VALIDATION_d2_DIR))} images of d2 for validation\")\n",
        "\n",
        "  print(f\"There are {len(os.listdir(TRAINING_d3_DIR))} images of d3 for training\")\n",
        "  print(f\"There are {len(os.listdir(VALIDATION_d3_DIR))} images of d3 for validation\")\n",
        "else: print('You Are Set As Mono')"
      ],
      "metadata": {
        "colab": {
          "base_uri": "https://localhost:8080/"
        },
        "id": "Tq7dADNoJuBT",
        "outputId": "139e9051-fd5c-41fc-999a-4c6bd6d93d66"
      },
      "execution_count": null,
      "outputs": [
        {
          "output_type": "stream",
          "name": "stdout",
          "text": [
            "Original d1's directory has 415 images\n",
            "Original d2's directory has 445 images\n",
            "Original d3's directory has 369 images\n",
            "There are 332 images of d1 for training\n",
            "There are 83 images of d1 for validation\n",
            "There are 356 images of d2 for training\n",
            "There are 89 images of d2 for validation\n",
            "There are 295 images of d3 for training\n",
            "There are 74 images of d3 for validation\n"
          ]
        }
      ]
    },
    {
      "cell_type": "markdown",
      "source": [
        "### --Class Count"
      ],
      "metadata": {
        "id": "ciD14chbBshi"
      }
    },
    {
      "cell_type": "code",
      "source": [
        "dirs = ''\n",
        "if mono:\n",
        "  dirs = '/content/dataset/training'\n",
        "else:\n",
        "  dirs = TRAINING_d1_DIR\n",
        "class_names = sorted(os.listdir(dirs))\n",
        "class_length = len(class_names)\n",
        "class_length"
      ],
      "metadata": {
        "colab": {
          "base_uri": "https://localhost:8080/"
        },
        "id": "2m3WxlhITyX6",
        "outputId": "f4a68ff5-0a5f-4c20-b816-b335257f5dba"
      },
      "execution_count": null,
      "outputs": [
        {
          "output_type": "execute_result",
          "data": {
            "text/plain": [
              "2"
            ]
          },
          "metadata": {},
          "execution_count": 11
        }
      ]
    },
    {
      "cell_type": "markdown",
      "source": [
        "# **Training**"
      ],
      "metadata": {
        "id": "JC96sevTuT9G"
      }
    },
    {
      "cell_type": "markdown",
      "source": [
        "## -Hyper parameter"
      ],
      "metadata": {
        "id": "pMvrJbmPJKNu"
      }
    },
    {
      "cell_type": "code",
      "source": [
        "# Hyperparameter\n",
        "input_shape = (56,56)\n",
        "batch_size = 32*2\n",
        "learning_rate=0.001\n",
        "dropout_layer_val = 0.5\n",
        "\n",
        "rotation_range=45\n",
        "width_shift_range=0.1\n",
        "height_shift_range=0.1\n",
        "\n",
        "fill_mode='nearest'\n",
        "\n",
        "horizontal_flip=True\n",
        "vertical_flip=True\n",
        "\n",
        "rescale=1.0/255.0\n",
        "\n",
        "loss_fun = 'categorical_crossentropy'\n",
        "optimizer_fun = tf.keras.optimizers.legacy.Adam(learning_rate=learning_rate)"
      ],
      "metadata": {
        "id": "ORMqUQIhDejz"
      },
      "execution_count": null,
      "outputs": []
    },
    {
      "cell_type": "markdown",
      "source": [
        "## -TrainValGenerator"
      ],
      "metadata": {
        "id": "UCe1HoNVHaPG"
      }
    },
    {
      "cell_type": "code",
      "source": [
        "def train_val_generators(TRAINING_DIR, VALIDATION_DIR):\n",
        "  train_datagen = ImageDataGenerator( rotation_range=rotation_range,\n",
        "                                      width_shift_range=width_shift_range,\n",
        "                                      height_shift_range=height_shift_range,\n",
        "                                      fill_mode=fill_mode,\n",
        "                                      horizontal_flip=horizontal_flip,\n",
        "                                      vertical_flip=vertical_flip,\n",
        "                                      rescale=rescale)\n",
        "  train_generator = train_datagen.flow_from_directory(directory=TRAINING_DIR,\n",
        "                                                      batch_size=batch_size,\n",
        "                                                      class_mode='categorical',\n",
        "                                                      target_size=input_shape)\n",
        "\n",
        "  validation_datagen = ImageDataGenerator(rescale=1/255)\n",
        "  validation_generator = validation_datagen.flow_from_directory(directory=VALIDATION_DIR,\n",
        "                                                                batch_size=batch_size,\n",
        "                                                                class_mode='categorical',\n",
        "                                                                target_size=input_shape)\n",
        "  return train_generator, validation_generator"
      ],
      "metadata": {
        "id": "slJID6h-Lsc4"
      },
      "execution_count": null,
      "outputs": []
    },
    {
      "cell_type": "markdown",
      "source": [
        "## -RESET"
      ],
      "metadata": {
        "id": "446veYeGIbGl"
      }
    },
    {
      "cell_type": "code",
      "source": [
        "import os\n",
        "import shutil\n",
        "\n",
        "# os.listdir(\"/content/monodataset/training\") #First find where the \".ipynb_checkpoints\" is located.\n",
        "\n",
        "shutil.rmtree(\"/content/dataset\")\n",
        "shutil.rmtree(\"/content/monodataset/validation/.ipynb_checkpoints\")\n",
        "shutil.rmtree(\"/content/monodataset/training/.ipynb_checkpoints\")"
      ],
      "metadata": {
        "colab": {
          "base_uri": "https://localhost:8080/",
          "height": 388
        },
        "id": "QxBRHePBbyT8",
        "outputId": "157092e4-5b9b-46c3-975e-49a2975df583"
      },
      "execution_count": null,
      "outputs": [
        {
          "output_type": "error",
          "ename": "FileNotFoundError",
          "evalue": "ignored",
          "traceback": [
            "\u001b[0;31m---------------------------------------------------------------------------\u001b[0m",
            "\u001b[0;31mFileNotFoundError\u001b[0m                         Traceback (most recent call last)",
            "\u001b[0;32m<ipython-input-10-c28120bc7dd5>\u001b[0m in \u001b[0;36m<cell line: 7>\u001b[0;34m()\u001b[0m\n\u001b[1;32m      5\u001b[0m \u001b[0;34m\u001b[0m\u001b[0m\n\u001b[1;32m      6\u001b[0m \u001b[0mshutil\u001b[0m\u001b[0;34m.\u001b[0m\u001b[0mrmtree\u001b[0m\u001b[0;34m(\u001b[0m\u001b[0;34m\"/content/dataset\"\u001b[0m\u001b[0;34m)\u001b[0m\u001b[0;34m\u001b[0m\u001b[0;34m\u001b[0m\u001b[0m\n\u001b[0;32m----> 7\u001b[0;31m \u001b[0mshutil\u001b[0m\u001b[0;34m.\u001b[0m\u001b[0mrmtree\u001b[0m\u001b[0;34m(\u001b[0m\u001b[0;34m\"/content/monodataset/validation/.ipynb_checkpoints\"\u001b[0m\u001b[0;34m)\u001b[0m\u001b[0;34m\u001b[0m\u001b[0;34m\u001b[0m\u001b[0m\n\u001b[0m\u001b[1;32m      8\u001b[0m \u001b[0mshutil\u001b[0m\u001b[0;34m.\u001b[0m\u001b[0mrmtree\u001b[0m\u001b[0;34m(\u001b[0m\u001b[0;34m\"/content/monodataset/training/.ipynb_checkpoints\"\u001b[0m\u001b[0;34m)\u001b[0m\u001b[0;34m\u001b[0m\u001b[0;34m\u001b[0m\u001b[0m\n",
            "\u001b[0;32m/usr/lib/python3.10/shutil.py\u001b[0m in \u001b[0;36mrmtree\u001b[0;34m(path, ignore_errors, onerror)\u001b[0m\n\u001b[1;32m    713\u001b[0m             \u001b[0morig_st\u001b[0m \u001b[0;34m=\u001b[0m \u001b[0mos\u001b[0m\u001b[0;34m.\u001b[0m\u001b[0mlstat\u001b[0m\u001b[0;34m(\u001b[0m\u001b[0mpath\u001b[0m\u001b[0;34m)\u001b[0m\u001b[0;34m\u001b[0m\u001b[0;34m\u001b[0m\u001b[0m\n\u001b[1;32m    714\u001b[0m         \u001b[0;32mexcept\u001b[0m \u001b[0mException\u001b[0m\u001b[0;34m:\u001b[0m\u001b[0;34m\u001b[0m\u001b[0;34m\u001b[0m\u001b[0m\n\u001b[0;32m--> 715\u001b[0;31m             \u001b[0monerror\u001b[0m\u001b[0;34m(\u001b[0m\u001b[0mos\u001b[0m\u001b[0;34m.\u001b[0m\u001b[0mlstat\u001b[0m\u001b[0;34m,\u001b[0m \u001b[0mpath\u001b[0m\u001b[0;34m,\u001b[0m \u001b[0msys\u001b[0m\u001b[0;34m.\u001b[0m\u001b[0mexc_info\u001b[0m\u001b[0;34m(\u001b[0m\u001b[0;34m)\u001b[0m\u001b[0;34m)\u001b[0m\u001b[0;34m\u001b[0m\u001b[0;34m\u001b[0m\u001b[0m\n\u001b[0m\u001b[1;32m    716\u001b[0m             \u001b[0;32mreturn\u001b[0m\u001b[0;34m\u001b[0m\u001b[0;34m\u001b[0m\u001b[0m\n\u001b[1;32m    717\u001b[0m         \u001b[0;32mtry\u001b[0m\u001b[0;34m:\u001b[0m\u001b[0;34m\u001b[0m\u001b[0;34m\u001b[0m\u001b[0m\n",
            "\u001b[0;32m/usr/lib/python3.10/shutil.py\u001b[0m in \u001b[0;36mrmtree\u001b[0;34m(path, ignore_errors, onerror)\u001b[0m\n\u001b[1;32m    711\u001b[0m         \u001b[0;31m# lstat()/open()/fstat() trick.\u001b[0m\u001b[0;34m\u001b[0m\u001b[0;34m\u001b[0m\u001b[0m\n\u001b[1;32m    712\u001b[0m         \u001b[0;32mtry\u001b[0m\u001b[0;34m:\u001b[0m\u001b[0;34m\u001b[0m\u001b[0;34m\u001b[0m\u001b[0m\n\u001b[0;32m--> 713\u001b[0;31m             \u001b[0morig_st\u001b[0m \u001b[0;34m=\u001b[0m \u001b[0mos\u001b[0m\u001b[0;34m.\u001b[0m\u001b[0mlstat\u001b[0m\u001b[0;34m(\u001b[0m\u001b[0mpath\u001b[0m\u001b[0;34m)\u001b[0m\u001b[0;34m\u001b[0m\u001b[0;34m\u001b[0m\u001b[0m\n\u001b[0m\u001b[1;32m    714\u001b[0m         \u001b[0;32mexcept\u001b[0m \u001b[0mException\u001b[0m\u001b[0;34m:\u001b[0m\u001b[0;34m\u001b[0m\u001b[0;34m\u001b[0m\u001b[0m\n\u001b[1;32m    715\u001b[0m             \u001b[0monerror\u001b[0m\u001b[0;34m(\u001b[0m\u001b[0mos\u001b[0m\u001b[0;34m.\u001b[0m\u001b[0mlstat\u001b[0m\u001b[0;34m,\u001b[0m \u001b[0mpath\u001b[0m\u001b[0;34m,\u001b[0m \u001b[0msys\u001b[0m\u001b[0;34m.\u001b[0m\u001b[0mexc_info\u001b[0m\u001b[0;34m(\u001b[0m\u001b[0;34m)\u001b[0m\u001b[0;34m)\u001b[0m\u001b[0;34m\u001b[0m\u001b[0;34m\u001b[0m\u001b[0m\n",
            "\u001b[0;31mFileNotFoundError\u001b[0m: [Errno 2] No such file or directory: '/content/monodataset/validation/.ipynb_checkpoints'"
          ]
        }
      ]
    },
    {
      "cell_type": "markdown",
      "source": [
        "## -Model for Training"
      ],
      "metadata": {
        "id": "p2pykQ9wHrLM"
      }
    },
    {
      "cell_type": "code",
      "source": [
        "print(TRAINING_DIR)\n",
        "print(VALIDATION_DIR)\n",
        "train_generator, validation_generator = train_val_generators(TRAINING_DIR, VALIDATION_DIR)\n",
        "\n",
        "def create_model():\n",
        "  ### START CODE HERE\n",
        "  model = tf.keras.models.Sequential([ \n",
        "      tf.keras.layers.Conv2D(16, (3,3), activation='relu',input_shape=(input_shape[0], input_shape[1], 3)),\n",
        "      tf.keras.layers.MaxPooling2D(2, 2),\n",
        "\n",
        "      tf.keras.layers.Conv2D(32, (3,3), activation='relu'),\n",
        "      tf.keras.layers.MaxPooling2D(2, 2),\n",
        "      \n",
        "      tf.keras.layers.Conv2D(64, (3,3), activation='relu'),\n",
        "      tf.keras.layers.MaxPooling2D(2, 2),\n",
        "      \n",
        "      tf.keras.layers.Flatten(),\n",
        "      tf.keras.layers.Dense(512, activation='relu'),\n",
        "      tf.keras.layers.Dropout(dropout_layer_val),\n",
        "      tf.keras.layers.Dense(class_length, activation='softmax')\n",
        "  ])\n",
        "\n",
        "  model.compile(loss=loss_fun,\n",
        "                optimizer= optimizer_fun,\n",
        "                metrics=['accuracy']) \n",
        "  return model\n",
        "  \n",
        "my_model = create_model()"
      ],
      "metadata": {
        "id": "O5glG4TRMfXO",
        "colab": {
          "base_uri": "https://localhost:8080/"
        },
        "outputId": "e44a285f-c456-4bd4-ae58-884c1f5368b0"
      },
      "execution_count": null,
      "outputs": [
        {
          "output_type": "stream",
          "name": "stdout",
          "text": [
            "/content/dataset/training/\n",
            "/content/dataset/validation/\n",
            "Found 2902 images belonging to 2 classes.\n",
            "Found 515 images belonging to 2 classes.\n"
          ]
        }
      ]
    },
    {
      "cell_type": "markdown",
      "source": [
        "## -Training Process"
      ],
      "metadata": {
        "id": "TDOWQP0tH2g0"
      }
    },
    {
      "cell_type": "markdown",
      "source": [
        "### --CallBacnk Func"
      ],
      "metadata": {
        "id": "TrUZtkCyJyl6"
      }
    },
    {
      "cell_type": "code",
      "source": [
        "class StopTrainingCallback(Callback):\n",
        "    def on_epoch_end(self, epoch, logs=None):\n",
        "        if logs.get('val_accuracy') is not None and logs.get('val_accuracy') > 0.99 and logs.get('val_loss') < 0.01:\n",
        "            print(\"Validation accuracy reached the desired threshold. Stopping training.\")\n",
        "            saved_model_path = \"./allergy_model.h5\"\n",
        "            self.model.save(saved_model_path)\n",
        "            self.model.stop_training = True"
      ],
      "metadata": {
        "id": "w-GmoKKF3AuE"
      },
      "execution_count": null,
      "outputs": []
    },
    {
      "cell_type": "markdown",
      "source": [
        "### --Train "
      ],
      "metadata": {
        "id": "tY4o-BrxJ1WB"
      }
    },
    {
      "cell_type": "code",
      "source": [
        "my_model.summary()\n",
        "history = my_model.fit(train_generator,\n",
        "                      epochs=15,\n",
        "                      validation_data=validation_generator,\n",
        "                      callbacks=[StopTrainingCallback()]\n",
        "                       )\n",
        "\n",
        "acc=history.history['accuracy']\n",
        "val_acc=history.history['val_accuracy']\n",
        "loss=history.history['loss']\n",
        "val_loss=history.history['val_loss']\n",
        "\n",
        "epochs=range(len(acc))\n",
        "\n",
        "plt.plot(epochs, acc, 'r', \"Training Accuracy\")\n",
        "plt.plot(epochs, val_acc, 'b', \"Validation Accuracy\")\n",
        "plt.title('Training and validation accuracy')\n",
        "plt.show()\n",
        "print(\"\")\n",
        "\n",
        "plt.plot(epochs, loss, 'r', \"Training Loss\")\n",
        "plt.plot(epochs, val_loss, 'b', \"Validation Loss\")\n",
        "plt.show()"
      ],
      "metadata": {
        "colab": {
          "base_uri": "https://localhost:8080/",
          "height": 1000
        },
        "id": "I2tptMhie-RZ",
        "outputId": "6d3c7090-e599-4982-e99b-33c7ef38e17d"
      },
      "execution_count": null,
      "outputs": [
        {
          "output_type": "stream",
          "name": "stdout",
          "text": [
            "Model: \"sequential\"\n",
            "_________________________________________________________________\n",
            " Layer (type)                Output Shape              Param #   \n",
            "=================================================================\n",
            " conv2d (Conv2D)             (None, 54, 54, 16)        448       \n",
            "                                                                 \n",
            " max_pooling2d (MaxPooling2D  (None, 27, 27, 16)       0         \n",
            " )                                                               \n",
            "                                                                 \n",
            " conv2d_1 (Conv2D)           (None, 25, 25, 32)        4640      \n",
            "                                                                 \n",
            " max_pooling2d_1 (MaxPooling  (None, 12, 12, 32)       0         \n",
            " 2D)                                                             \n",
            "                                                                 \n",
            " conv2d_2 (Conv2D)           (None, 10, 10, 64)        18496     \n",
            "                                                                 \n",
            " max_pooling2d_2 (MaxPooling  (None, 5, 5, 64)         0         \n",
            " 2D)                                                             \n",
            "                                                                 \n",
            " flatten (Flatten)           (None, 1600)              0         \n",
            "                                                                 \n",
            " dense (Dense)               (None, 512)               819712    \n",
            "                                                                 \n",
            " dropout (Dropout)           (None, 512)               0         \n",
            "                                                                 \n",
            " dense_1 (Dense)             (None, 2)                 1026      \n",
            "                                                                 \n",
            "=================================================================\n",
            "Total params: 844,322\n",
            "Trainable params: 844,322\n",
            "Non-trainable params: 0\n",
            "_________________________________________________________________\n",
            "Epoch 1/15\n",
            "46/46 [==============================] - 31s 668ms/step - loss: 0.1577 - accuracy: 0.9376 - val_loss: 0.1063 - val_accuracy: 0.9728\n",
            "Epoch 2/15\n",
            "46/46 [==============================] - 30s 663ms/step - loss: 0.1155 - accuracy: 0.9638 - val_loss: 0.0809 - val_accuracy: 0.9825\n",
            "Epoch 3/15\n",
            "46/46 [==============================] - 30s 654ms/step - loss: 0.1500 - accuracy: 0.9511 - val_loss: 0.0955 - val_accuracy: 0.9650\n",
            "Epoch 4/15\n",
            "46/46 [==============================] - 28s 619ms/step - loss: 0.1284 - accuracy: 0.9511 - val_loss: 0.0740 - val_accuracy: 0.9767\n",
            "Epoch 5/15\n",
            "46/46 [==============================] - 29s 639ms/step - loss: 0.1352 - accuracy: 0.9545 - val_loss: 0.1047 - val_accuracy: 0.9709\n",
            "Epoch 6/15\n",
            "46/46 [==============================] - 30s 649ms/step - loss: 0.0958 - accuracy: 0.9697 - val_loss: 0.0750 - val_accuracy: 0.9767\n",
            "Epoch 7/15\n",
            "46/46 [==============================] - 29s 630ms/step - loss: 0.0994 - accuracy: 0.9704 - val_loss: 0.0787 - val_accuracy: 0.9767\n",
            "Epoch 8/15\n",
            "46/46 [==============================] - 30s 660ms/step - loss: 0.1018 - accuracy: 0.9690 - val_loss: 0.0780 - val_accuracy: 0.9786\n",
            "Epoch 9/15\n",
            "46/46 [==============================] - 29s 630ms/step - loss: 0.0786 - accuracy: 0.9762 - val_loss: 0.0600 - val_accuracy: 0.9825\n",
            "Epoch 10/15\n",
            "46/46 [==============================] - 29s 634ms/step - loss: 0.0876 - accuracy: 0.9690 - val_loss: 0.0523 - val_accuracy: 0.9825\n",
            "Epoch 11/15\n",
            "46/46 [==============================] - 30s 647ms/step - loss: 0.0865 - accuracy: 0.9704 - val_loss: 0.0735 - val_accuracy: 0.9767\n",
            "Epoch 12/15\n",
            "46/46 [==============================] - 29s 637ms/step - loss: 0.1004 - accuracy: 0.9669 - val_loss: 0.0761 - val_accuracy: 0.9845\n",
            "Epoch 13/15\n",
            "46/46 [==============================] - 30s 664ms/step - loss: 0.1052 - accuracy: 0.9600 - val_loss: 0.0682 - val_accuracy: 0.9825\n",
            "Epoch 14/15\n",
            "46/46 [==============================] - 30s 635ms/step - loss: 0.0879 - accuracy: 0.9711 - val_loss: 0.0655 - val_accuracy: 0.9806\n",
            "Epoch 15/15\n",
            "46/46 [==============================] - 29s 632ms/step - loss: 0.0769 - accuracy: 0.9759 - val_loss: 0.0618 - val_accuracy: 0.9786\n"
          ]
        },
        {
          "output_type": "display_data",
          "data": {
            "text/plain": [
              "<Figure size 640x480 with 1 Axes>"
            ],
            "image/png": "[encoded data removed]"
          },
          "metadata": {}
        },
        {
          "output_type": "stream",
          "name": "stdout",
          "text": [
            "\n"
          ]
        },
        {
          "output_type": "display_data",
          "data": {
            "text/plain": [
              "<Figure size 640x480 with 1 Axes>"
            ],
            "image/png": "[encoded data removed]"
          },
          "metadata": {}
        }
      ]
    },
    {
      "cell_type": "code",
      "source": [
        "image = Image.open('/content/dataset/validation/non_alergi/acne (118).jpg')\n",
        "image = image.resize((56, 56))  # Resize the image to the desired shape\n",
        "\n",
        "# Convert the image to a NumPy array\n",
        "image_array = np.array(image)\n",
        "image_array = image_array[:, :, :3]  # Keep only the first 3 channels (RGB)\n",
        "\n",
        "# Normalize the pixel values (if needed)\n",
        "image_array = image_array / 255.0\n",
        "\n",
        "# Expand dimensions to match the input shape of the model\n",
        "input_image = np.expand_dims(image_array, axis=0)\n",
        "\n",
        "# Print the shape of the input image\n",
        "print('Input Image Shape:', input_image.shape)\n",
        "\n",
        "\n",
        "predictions = my_model.predict(input_image)\n",
        "predicted_label = np.argmax(predictions, axis=-1)\n",
        "print(predicted_label)\n"
      ],
      "metadata": {
        "colab": {
          "base_uri": "https://localhost:8080/"
        },
        "id": "7k6ymVrcsY0S",
        "outputId": "858cab5e-a283-40dd-9a91-9a1d8b09b4d6"
      },
      "execution_count": null,
      "outputs": [
        {
          "output_type": "stream",
          "name": "stdout",
          "text": [
            "Input Image Shape: (1, 56, 56, 3)\n",
            "1/1 [==============================] - 0s 189ms/step\n",
            "[1]\n"
          ]
        }
      ]
    },
    {
      "cell_type": "code",
      "source": [
        "print(\"Validation accuracy reached the desired threshold. Stopping training.\")\n",
        "saved_model_path = \"./mantap.h5\"\n",
        "my_model.save(saved_model_path)"
      ],
      "metadata": {
        "colab": {
          "base_uri": "https://localhost:8080/"
        },
        "id": "BmV5tZ53pOwC",
        "outputId": "8ccc8a89-8f6e-4ef4-f327-4ccde6f1dfe9"
      },
      "execution_count": null,
      "outputs": [
        {
          "output_type": "stream",
          "name": "stdout",
          "text": [
            "Validation accuracy reached the desired threshold. Stopping training.\n"
          ]
        }
      ]
    },
    {
      "cell_type": "markdown",
      "source": [
        "# **Using PreTrain Model**"
      ],
      "metadata": {
        "id": "xTkLg6R7IYB2"
      }
    },
    {
      "cell_type": "markdown",
      "source": [
        "## -Setup"
      ],
      "metadata": {
        "id": "-27giIvDIjNh"
      }
    },
    {
      "cell_type": "code",
      "source": [
        "from tensorflow.keras.applications.vgg16 import VGG16\n",
        "from tensorflow.keras.applications.inception_v3 import InceptionV3\n",
        "from tensorflow.keras.applications.inception_resnet_v2 import InceptionResNetV2\n",
        "from tensorflow.keras.applications.xception import Xception\n",
        "from tensorflow.keras.applications.resnet_v2 import ResNet152V2\n",
        "from tensorflow.keras.applications.resnet import ResNet50, ResNet101, ResNet152\n",
        "from tensorflow.keras.applications.nasnet import NASNetLarge\n",
        "from tensorflow.keras.applications.densenet import DenseNet201, DenseNet169, DenseNet121\n",
        "from tensorflow.keras.layers import Dense, GlobalAveragePooling2D\n",
        "from tensorflow.keras.models import Model\n",
        "vgg_conv = VGG16(weights='imagenet', include_top=False, input_shape=(input_shape[0], input_shape[1], 3))\n",
        "incepctionv3_conv = InceptionV3(weights='imagenet', include_top=False, input_shape=(input_shape[0], input_shape[1], 3))\n",
        "ResNet152V2_conv = ResNet152V2(weights='imagenet', include_top=False, input_shape=(input_shape[0], input_shape[1], 3))\n",
        "DenseNet201_conv = DenseNet201(include_top=False, weights=\"imagenet\", input_tensor=None, input_shape=(input_shape[0], input_shape[1], 3), pooling=None)\n",
        "DenseNet169_conv = DenseNet169(include_top=False, weights=\"imagenet\", input_tensor=None, input_shape=(input_shape[0], input_shape[1], 3), pooling=None)\n",
        "DenseNet121_conv = DenseNet121(include_top=False, weights=\"imagenet\", input_tensor=None, input_shape=(input_shape[0], input_shape[1], 3), pooling=None)\n",
        "Xception_conv = Xception(input_shape=(input_shape[0], input_shape[1], 3), include_top=False, weights=\"imagenet\", input_tensor=None, pooling=None)\n",
        "ResNet50_conv = ResNet50(input_shape=(input_shape[0], input_shape[1], 3), include_top=False, weights=\"imagenet\", input_tensor=None, pooling=None)\n",
        "ResNet101_conv = ResNet101(input_shape=(input_shape[0], input_shape[1], 3), include_top=False, weights=\"imagenet\", input_tensor=None, pooling=None)\n",
        "ResNet152_conv = ResNet152(input_shape=(input_shape[0], input_shape[1], 3), include_top=False, weights=\"imagenet\", input_tensor=None, pooling=None)\n"
      ],
      "metadata": {
        "id": "B8ZD3mN5Lnjx"
      },
      "execution_count": null,
      "outputs": []
    },
    {
      "cell_type": "markdown",
      "source": [
        "## -Model extraction"
      ],
      "metadata": {
        "id": "oReixwPrI1Tr"
      }
    },
    {
      "cell_type": "code",
      "source": [
        "def preTrainedModel(conv):\n",
        "  model = tf.keras.models.Sequential()\n",
        "  model.add(conv)\n",
        "  model.add(tf.keras.layers.Flatten())\n",
        "  model.add(tf.keras.layers.Dense(128, activation='relu'))\n",
        "  model.add(tf.keras.layers.Dropout(0.5))\n",
        "  model.add(tf.keras.layers.Dense(3, activation='sigmoid'))\n",
        "\n",
        "  # Freeze the layers except the last 4 layers\n",
        "  for layer in model.layers:\n",
        "    print(layer)\n",
        "    layer.trainable = False\n",
        "      \n",
        "  # Compile the model\n",
        "  model.compile(loss='categorical_crossentropy',\n",
        "                # optimizer= 'SGD',\n",
        "                optimizer= tf.keras.optimizers.Adam(lr=0.00001),\n",
        "                # optimizer= tf.keras.optimizers.experimental.RMSprop(lr=0.005),\n",
        "                metrics=['accuracy'])\n",
        "  model.summary()   \n",
        "  return model"
      ],
      "metadata": {
        "id": "5cdIQuGCNB3N"
      },
      "execution_count": null,
      "outputs": []
    },
    {
      "cell_type": "markdown",
      "source": [],
      "metadata": {
        "id": "ySYXCoVmNK3o"
      }
    },
    {
      "cell_type": "markdown",
      "source": [
        "## -Training"
      ],
      "metadata": {
        "id": "cI9VRmdmI4Hp"
      }
    },
    {
      "cell_type": "code",
      "source": [
        "# Train the model\n",
        "listOfPreModel = [DenseNet201_conv]\n",
        "for x in listOfPreModel:\n",
        "  model = preTrainedModel(x)\n",
        "  history = model.fit(train_generator,\n",
        "                      epochs=10,\n",
        "                      verbose=1,\n",
        "                      validation_data=validation_generator)\n",
        "\n",
        "  # Retrieve a list of list results on training and test data\n",
        "  # sets for each training epoch\n",
        "  acc=history.history['accuracy']\n",
        "  val_acc=history.history['val_accuracy']\n",
        "  loss=history.history['loss']\n",
        "  val_loss=history.history['val_loss']\n",
        "\n",
        "  epochs=range(len(acc)) # Get number of epochs\n",
        "\n",
        "  # Plot training and validation accuracy per epoch\n",
        "  plt.plot(epochs, acc, 'r', \"Training Accuracy\")\n",
        "  plt.plot(epochs, val_acc, 'b', \"Validation Accuracy\")\n",
        "  plt.title('Training and validation accuracy')\n",
        "  plt.show()\n",
        "  print(\"\")\n",
        "\n",
        "  # Plot training and validation loss per epoch\n",
        "  plt.plot(epochs, loss, 'r', \"Training Loss\")\n",
        "  plt.plot(epochs, val_loss, 'b', \"Validation Loss\")\n",
        "  plt.show()"
      ],
      "metadata": {
        "id": "ss4UQ0N3NYGs"
      },
      "execution_count": null,
      "outputs": []
    },
    {
      "cell_type": "markdown",
      "source": [
        "# **Exporting Model**"
      ],
      "metadata": {
        "id": "hQX1syWPq95N"
      }
    },
    {
      "cell_type": "code",
      "source": [
        "!pip install tensorflow==2.2\n",
        "!pip uninstall tensorflowjs\n",
        "!pip install tensorflowjs\n",
        "%pip install tensorrt\n",
        "import tensorflow as tf\n",
        "\n",
        "print('\\u2022 Using TensorFlow Version:', tf.__version__)"
      ],
      "metadata": {
        "id": "RtQHhp75UQB-",
        "colab": {
          "base_uri": "https://localhost:8080/"
        },
        "outputId": "92613828-b2fa-4a6b-85f0-a6c1ba42e389"
      },
      "execution_count": null,
      "outputs": [
        {
          "output_type": "stream",
          "name": "stdout",
          "text": [
            "Looking in indexes: https://pypi.org/simple, https://us-python.pkg.dev/colab-wheels/public/simple/\n",
            "\u001b[31mERROR: Could not find a version that satisfies the requirement tensorflow==2.2 (from versions: 2.8.0rc0, 2.8.0rc1, 2.8.0, 2.8.1, 2.8.2, 2.8.3, 2.8.4, 2.9.0rc0, 2.9.0rc1, 2.9.0rc2, 2.9.0, 2.9.1, 2.9.2, 2.9.3, 2.10.0rc0, 2.10.0rc1, 2.10.0rc2, 2.10.0rc3, 2.10.0, 2.10.1, 2.11.0rc0, 2.11.0rc1, 2.11.0rc2, 2.11.0, 2.11.1, 2.12.0rc0, 2.12.0rc1, 2.12.0, 2.13.0rc0, 2.13.0rc1)\u001b[0m\u001b[31m\n",
            "\u001b[0m\u001b[31mERROR: No matching distribution found for tensorflow==2.2\u001b[0m\u001b[31m\n",
            "\u001b[0m\u001b[33mWARNING: Skipping tensorflowjs as it is not installed.\u001b[0m\u001b[33m\n",
            "\u001b[0mLooking in indexes: https://pypi.org/simple, https://us-python.pkg.dev/colab-wheels/public/simple/\n",
            "Collecting tensorflowjs\n",
            "  Using cached tensorflowjs-4.6.0-py3-none-any.whl (85 kB)\n",
            "Requirement already satisfied: flax<0.6.3,>=0.6.2 in /usr/local/lib/python3.10/dist-packages (from tensorflowjs) (0.6.2)\n",
            "Requirement already satisfied: importlib_resources>=5.9.0 in /usr/local/lib/python3.10/dist-packages (from tensorflowjs) (5.12.0)\n",
            "Requirement already satisfied: jax>=0.3.16 in /usr/local/lib/python3.10/dist-packages (from tensorflowjs) (0.4.10)\n",
            "Requirement already satisfied: tensorflow<3,>=2.12.0 in /usr/local/lib/python3.10/dist-packages (from tensorflowjs) (2.12.0)\n",
            "Requirement already satisfied: tensorflow-decision-forests>=1.3.0 in /usr/local/lib/python3.10/dist-packages (from tensorflowjs) (1.3.0)\n",
            "Requirement already satisfied: six<2,>=1.12.0 in /usr/local/lib/python3.10/dist-packages (from tensorflowjs) (1.16.0)\n",
            "Requirement already satisfied: tensorflow-hub>=0.13.0 in /usr/local/lib/python3.10/dist-packages (from tensorflowjs) (0.13.0)\n",
            "Requirement already satisfied: packaging~=20.9 in /usr/local/lib/python3.10/dist-packages (from tensorflowjs) (20.9)\n",
            "Requirement already satisfied: numpy>=1.12 in /usr/local/lib/python3.10/dist-packages (from flax<0.6.3,>=0.6.2->tensorflowjs) (1.22.4)\n",
            "Requirement already satisfied: matplotlib in /usr/local/lib/python3.10/dist-packages (from flax<0.6.3,>=0.6.2->tensorflowjs) (3.7.1)\n",
            "Requirement already satisfied: msgpack in /usr/local/lib/python3.10/dist-packages (from flax<0.6.3,>=0.6.2->tensorflowjs) (1.0.5)\n",
            "Requirement already satisfied: optax in /usr/local/lib/python3.10/dist-packages (from flax<0.6.3,>=0.6.2->tensorflowjs) (0.1.5)\n",
            "Requirement already satisfied: tensorstore in /usr/local/lib/python3.10/dist-packages (from flax<0.6.3,>=0.6.2->tensorflowjs) (0.1.36)\n",
            "Requirement already satisfied: rich>=11.1 in /usr/local/lib/python3.10/dist-packages (from flax<0.6.3,>=0.6.2->tensorflowjs) (13.3.4)\n",
            "Requirement already satisfied: typing-extensions>=4.1.1 in /usr/local/lib/python3.10/dist-packages (from flax<0.6.3,>=0.6.2->tensorflowjs) (4.5.0)\n",
            "Requirement already satisfied: PyYAML>=5.4.1 in /usr/local/lib/python3.10/dist-packages (from flax<0.6.3,>=0.6.2->tensorflowjs) (6.0)\n",
            "Requirement already satisfied: ml-dtypes>=0.1.0 in /usr/local/lib/python3.10/dist-packages (from jax>=0.3.16->tensorflowjs) (0.1.0)\n",
            "Requirement already satisfied: opt-einsum in /usr/local/lib/python3.10/dist-packages (from jax>=0.3.16->tensorflowjs) (3.3.0)\n",
            "Requirement already satisfied: scipy>=1.7 in /usr/local/lib/python3.10/dist-packages (from jax>=0.3.16->tensorflowjs) (1.10.1)\n",
            "Requirement already satisfied: pyparsing>=2.0.2 in /usr/local/lib/python3.10/dist-packages (from packaging~=20.9->tensorflowjs) (3.0.9)\n",
            "Requirement already satisfied: absl-py>=1.0.0 in /usr/local/lib/python3.10/dist-packages (from tensorflow<3,>=2.12.0->tensorflowjs) (1.4.0)\n",
            "Requirement already satisfied: astunparse>=1.6.0 in /usr/local/lib/python3.10/dist-packages (from tensorflow<3,>=2.12.0->tensorflowjs) (1.6.3)\n",
            "Requirement already satisfied: flatbuffers>=2.0 in /usr/local/lib/python3.10/dist-packages (from tensorflow<3,>=2.12.0->tensorflowjs) (23.3.3)\n",
            "Requirement already satisfied: gast<=0.4.0,>=0.2.1 in /usr/local/lib/python3.10/dist-packages (from tensorflow<3,>=2.12.0->tensorflowjs) (0.4.0)\n",
            "Requirement already satisfied: google-pasta>=0.1.1 in /usr/local/lib/python3.10/dist-packages (from tensorflow<3,>=2.12.0->tensorflowjs) (0.2.0)\n",
            "Requirement already satisfied: grpcio<2.0,>=1.24.3 in /usr/local/lib/python3.10/dist-packages (from tensorflow<3,>=2.12.0->tensorflowjs) (1.54.0)\n",
            "Requirement already satisfied: h5py>=2.9.0 in /usr/local/lib/python3.10/dist-packages (from tensorflow<3,>=2.12.0->tensorflowjs) (3.8.0)\n",
            "Requirement already satisfied: keras<2.13,>=2.12.0 in /usr/local/lib/python3.10/dist-packages (from tensorflow<3,>=2.12.0->tensorflowjs) (2.12.0)\n",
            "Requirement already satisfied: libclang>=13.0.0 in /usr/local/lib/python3.10/dist-packages (from tensorflow<3,>=2.12.0->tensorflowjs) (16.0.0)\n",
            "Requirement already satisfied: protobuf!=4.21.0,!=4.21.1,!=4.21.2,!=4.21.3,!=4.21.4,!=4.21.5,<5.0.0dev,>=3.20.3 in /usr/local/lib/python3.10/dist-packages (from tensorflow<3,>=2.12.0->tensorflowjs) (3.20.3)\n",
            "Requirement already satisfied: setuptools in /usr/local/lib/python3.10/dist-packages (from tensorflow<3,>=2.12.0->tensorflowjs) (67.7.2)\n",
            "Requirement already satisfied: tensorboard<2.13,>=2.12 in /usr/local/lib/python3.10/dist-packages (from tensorflow<3,>=2.12.0->tensorflowjs) (2.12.2)\n",
            "Requirement already satisfied: tensorflow-estimator<2.13,>=2.12.0 in /usr/local/lib/python3.10/dist-packages (from tensorflow<3,>=2.12.0->tensorflowjs) (2.12.0)\n",
            "Requirement already satisfied: termcolor>=1.1.0 in /usr/local/lib/python3.10/dist-packages (from tensorflow<3,>=2.12.0->tensorflowjs) (2.3.0)\n",
            "Requirement already satisfied: wrapt<1.15,>=1.11.0 in /usr/local/lib/python3.10/dist-packages (from tensorflow<3,>=2.12.0->tensorflowjs) (1.14.1)\n",
            "Requirement already satisfied: tensorflow-io-gcs-filesystem>=0.23.1 in /usr/local/lib/python3.10/dist-packages (from tensorflow<3,>=2.12.0->tensorflowjs) (0.32.0)\n",
            "Requirement already satisfied: pandas in /usr/local/lib/python3.10/dist-packages (from tensorflow-decision-forests>=1.3.0->tensorflowjs) (1.5.3)\n",
            "Requirement already satisfied: wheel in /usr/local/lib/python3.10/dist-packages (from tensorflow-decision-forests>=1.3.0->tensorflowjs) (0.40.0)\n",
            "Requirement already satisfied: wurlitzer in /usr/local/lib/python3.10/dist-packages (from tensorflow-decision-forests>=1.3.0->tensorflowjs) (3.0.3)\n",
            "Requirement already satisfied: markdown-it-py<3.0.0,>=2.2.0 in /usr/local/lib/python3.10/dist-packages (from rich>=11.1->flax<0.6.3,>=0.6.2->tensorflowjs) (2.2.0)\n",
            "Requirement already satisfied: pygments<3.0.0,>=2.13.0 in /usr/local/lib/python3.10/dist-packages (from rich>=11.1->flax<0.6.3,>=0.6.2->tensorflowjs) (2.14.0)\n",
            "Requirement already satisfied: google-auth<3,>=1.6.3 in /usr/local/lib/python3.10/dist-packages (from tensorboard<2.13,>=2.12->tensorflow<3,>=2.12.0->tensorflowjs) (2.17.3)\n",
            "Requirement already satisfied: google-auth-oauthlib<1.1,>=0.5 in /usr/local/lib/python3.10/dist-packages (from tensorboard<2.13,>=2.12->tensorflow<3,>=2.12.0->tensorflowjs) (1.0.0)\n",
            "Requirement already satisfied: markdown>=2.6.8 in /usr/local/lib/python3.10/dist-packages (from tensorboard<2.13,>=2.12->tensorflow<3,>=2.12.0->tensorflowjs) (3.4.3)\n",
            "Requirement already satisfied: requests<3,>=2.21.0 in /usr/local/lib/python3.10/dist-packages (from tensorboard<2.13,>=2.12->tensorflow<3,>=2.12.0->tensorflowjs) (2.27.1)\n",
            "Requirement already satisfied: tensorboard-data-server<0.8.0,>=0.7.0 in /usr/local/lib/python3.10/dist-packages (from tensorboard<2.13,>=2.12->tensorflow<3,>=2.12.0->tensorflowjs) (0.7.0)\n",
            "Requirement already satisfied: tensorboard-plugin-wit>=1.6.0 in /usr/local/lib/python3.10/dist-packages (from tensorboard<2.13,>=2.12->tensorflow<3,>=2.12.0->tensorflowjs) (1.8.1)\n",
            "Requirement already satisfied: werkzeug>=1.0.1 in /usr/local/lib/python3.10/dist-packages (from tensorboard<2.13,>=2.12->tensorflow<3,>=2.12.0->tensorflowjs) (2.3.0)\n",
            "Requirement already satisfied: contourpy>=1.0.1 in /usr/local/lib/python3.10/dist-packages (from matplotlib->flax<0.6.3,>=0.6.2->tensorflowjs) (1.0.7)\n",
            "Requirement already satisfied: cycler>=0.10 in /usr/local/lib/python3.10/dist-packages (from matplotlib->flax<0.6.3,>=0.6.2->tensorflowjs) (0.11.0)\n",
            "Requirement already satisfied: fonttools>=4.22.0 in /usr/local/lib/python3.10/dist-packages (from matplotlib->flax<0.6.3,>=0.6.2->tensorflowjs) (4.39.3)\n",
            "Requirement already satisfied: kiwisolver>=1.0.1 in /usr/local/lib/python3.10/dist-packages (from matplotlib->flax<0.6.3,>=0.6.2->tensorflowjs) (1.4.4)\n",
            "Requirement already satisfied: pillow>=6.2.0 in /usr/local/lib/python3.10/dist-packages (from matplotlib->flax<0.6.3,>=0.6.2->tensorflowjs) (8.4.0)\n",
            "Requirement already satisfied: python-dateutil>=2.7 in /usr/local/lib/python3.10/dist-packages (from matplotlib->flax<0.6.3,>=0.6.2->tensorflowjs) (2.8.2)\n",
            "Requirement already satisfied: chex>=0.1.5 in /usr/local/lib/python3.10/dist-packages (from optax->flax<0.6.3,>=0.6.2->tensorflowjs) (0.1.7)\n",
            "Requirement already satisfied: jaxlib>=0.1.37 in /usr/local/lib/python3.10/dist-packages (from optax->flax<0.6.3,>=0.6.2->tensorflowjs) (0.4.10+cuda11.cudnn86)\n",
            "Requirement already satisfied: pytz>=2020.1 in /usr/local/lib/python3.10/dist-packages (from pandas->tensorflow-decision-forests>=1.3.0->tensorflowjs) (2022.7.1)\n",
            "Requirement already satisfied: dm-tree>=0.1.5 in /usr/local/lib/python3.10/dist-packages (from chex>=0.1.5->optax->flax<0.6.3,>=0.6.2->tensorflowjs) (0.1.8)\n",
            "Requirement already satisfied: toolz>=0.9.0 in /usr/local/lib/python3.10/dist-packages (from chex>=0.1.5->optax->flax<0.6.3,>=0.6.2->tensorflowjs) (0.12.0)\n",
            "Requirement already satisfied: cachetools<6.0,>=2.0.0 in /usr/local/lib/python3.10/dist-packages (from google-auth<3,>=1.6.3->tensorboard<2.13,>=2.12->tensorflow<3,>=2.12.0->tensorflowjs) (5.3.0)\n",
            "Requirement already satisfied: pyasn1-modules>=0.2.1 in /usr/local/lib/python3.10/dist-packages (from google-auth<3,>=1.6.3->tensorboard<2.13,>=2.12->tensorflow<3,>=2.12.0->tensorflowjs) (0.3.0)\n",
            "Requirement already satisfied: rsa<5,>=3.1.4 in /usr/local/lib/python3.10/dist-packages (from google-auth<3,>=1.6.3->tensorboard<2.13,>=2.12->tensorflow<3,>=2.12.0->tensorflowjs) (4.9)\n",
            "Requirement already satisfied: requests-oauthlib>=0.7.0 in /usr/local/lib/python3.10/dist-packages (from google-auth-oauthlib<1.1,>=0.5->tensorboard<2.13,>=2.12->tensorflow<3,>=2.12.0->tensorflowjs) (1.3.1)\n",
            "Requirement already satisfied: mdurl~=0.1 in /usr/local/lib/python3.10/dist-packages (from markdown-it-py<3.0.0,>=2.2.0->rich>=11.1->flax<0.6.3,>=0.6.2->tensorflowjs) (0.1.2)\n",
            "Requirement already satisfied: urllib3<1.27,>=1.21.1 in /usr/local/lib/python3.10/dist-packages (from requests<3,>=2.21.0->tensorboard<2.13,>=2.12->tensorflow<3,>=2.12.0->tensorflowjs) (1.26.15)\n",
            "Requirement already satisfied: certifi>=2017.4.17 in /usr/local/lib/python3.10/dist-packages (from requests<3,>=2.21.0->tensorboard<2.13,>=2.12->tensorflow<3,>=2.12.0->tensorflowjs) (2022.12.7)\n",
            "Requirement already satisfied: charset-normalizer~=2.0.0 in /usr/local/lib/python3.10/dist-packages (from requests<3,>=2.21.0->tensorboard<2.13,>=2.12->tensorflow<3,>=2.12.0->tensorflowjs) (2.0.12)\n",
            "Requirement already satisfied: idna<4,>=2.5 in /usr/local/lib/python3.10/dist-packages (from requests<3,>=2.21.0->tensorboard<2.13,>=2.12->tensorflow<3,>=2.12.0->tensorflowjs) (3.4)\n",
            "Requirement already satisfied: MarkupSafe>=2.1.1 in /usr/local/lib/python3.10/dist-packages (from werkzeug>=1.0.1->tensorboard<2.13,>=2.12->tensorflow<3,>=2.12.0->tensorflowjs) (2.1.2)\n",
            "Requirement already satisfied: pyasn1<0.6.0,>=0.4.6 in /usr/local/lib/python3.10/dist-packages (from pyasn1-modules>=0.2.1->google-auth<3,>=1.6.3->tensorboard<2.13,>=2.12->tensorflow<3,>=2.12.0->tensorflowjs) (0.5.0)\n",
            "Requirement already satisfied: oauthlib>=3.0.0 in /usr/local/lib/python3.10/dist-packages (from requests-oauthlib>=0.7.0->google-auth-oauthlib<1.1,>=0.5->tensorboard<2.13,>=2.12->tensorflow<3,>=2.12.0->tensorflowjs) (3.2.2)\n",
            "Installing collected packages: tensorflowjs\n",
            "Successfully installed tensorflowjs-4.6.0\n",
            "Looking in indexes: https://pypi.org/simple, https://us-python.pkg.dev/colab-wheels/public/simple/\n",
            "Requirement already satisfied: tensorrt in /usr/local/lib/python3.10/dist-packages (8.6.1)\n",
            "• Using TensorFlow Version: 2.12.0\n"
          ]
        }
      ]
    },
    {
      "cell_type": "code",
      "source": [
        "saved_model_path = '/content/model_mantap.h5'\n",
        "!tensorflowjs_converter --input_format=keras {saved_model_path} ./"
      ],
      "metadata": {
        "colab": {
          "base_uri": "https://localhost:8080/"
        },
        "id": "xg4pttdJuqum",
        "outputId": "b0f4660c-474d-44be-da34-e1f68de9e550"
      },
      "execution_count": null,
      "outputs": [
        {
          "output_type": "stream",
          "name": "stdout",
          "text": [
            "2023-05-31 07:53:28.486083: W tensorflow/compiler/tf2tensorrt/utils/py_utils.cc:38] TF-TRT Warning: Could not find TensorRT\n"
          ]
        }
      ]
    },
    {
      "cell_type": "code",
      "source": [],
      "metadata": {
        "id": "XMgAojUZu2TO"
      },
      "execution_count": null,
      "outputs": []
    },
    {
      "cell_type": "markdown",
      "source": [
        "# **Pickle To JSON**"
      ],
      "metadata": {
        "id": "NcU1zLLZmHDY"
      }
    },
    {
      "cell_type": "code",
      "source": [
        "# import libraries\n",
        "import pickle\n",
        "import json\n",
        "import sys\n",
        "import os\n",
        "\n",
        "# open pickle file\n",
        "with open('/content/jenis_alergi_model.pkl', 'rb') as infile:\n",
        "    obj = pickle.load(infile)\n",
        "\n",
        "# convert pickle object to json object\n",
        "json_obj = json.loads(json.dumps(obj, default=str))\n",
        "\n",
        "# write the json file\n",
        "with open('jenis_alergi_model' + '.json', 'w', encoding='utf-8') as outfile:\n",
        "    json.dump(json_obj, outfile, ensure_ascii=False, indent=4)"
      ],
      "metadata": {
        "id": "YE6IJrYcmJml"
      },
      "execution_count": null,
      "outputs": []
    },
    {
      "cell_type": "code",
      "source": [],
      "metadata": {
        "id": "H0IK2rT0mfIP"
      },
      "execution_count": null,
      "outputs": []
    }
  ]
}